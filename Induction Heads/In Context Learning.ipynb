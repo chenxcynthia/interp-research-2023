{
 "cells": [
  {
   "cell_type": "markdown",
   "id": "e39fdc77-2b3b-4404-99fc-4a555aa6f886",
   "metadata": {},
   "source": [
    "## Experiment: Confirming in-context learning behaviors in BERT\n",
    "We want to show that BERT demonstrates in-context learning (ICL), which has been observed in unidirectional models"
   ]
  },
  {
   "cell_type": "code",
   "execution_count": 1,
   "id": "c57373a0-10d8-424e-a597-24724151b2f1",
   "metadata": {},
   "outputs": [
    {
     "name": "stderr",
     "output_type": "stream",
     "text": [
      "/n/helmod/apps/centos7/Core/Anaconda3/2021.05-jupyterood-fasrc01/x/lib/python3.8/site-packages/scipy/__init__.py:138: UserWarning: A NumPy version >=1.16.5 and <1.23.0 is required for this version of SciPy (detected version 1.24.2)\n",
      "  warnings.warn(f\"A NumPy version >={np_minversion} and <{np_maxversion} is required for this version of \"\n"
     ]
    }
   ],
   "source": [
    "from imports import *\n",
    "utils.logging.set_verbosity_error()"
   ]
  },
  {
   "cell_type": "code",
   "execution_count": 2,
   "id": "1b65494b-2383-4681-997a-e8b44315ff5c",
   "metadata": {},
   "outputs": [],
   "source": [
    "from transformers import BertForMaskedLM\n",
    "from datasets import load_dataset"
   ]
  },
  {
   "cell_type": "code",
   "execution_count": 3,
   "id": "02dbd06d-4627-4ec3-9c47-4a330c6be863",
   "metadata": {},
   "outputs": [],
   "source": [
    "tokenizer = BertTokenizer.from_pretrained('bert-base-uncased')\n",
    "bert = BertModel.from_pretrained(\"bert-base-uncased\", output_attentions=True)"
   ]
  },
  {
   "cell_type": "code",
   "execution_count": 4,
   "id": "86b1032d-4a7d-4672-bded-23b0f3273a34",
   "metadata": {},
   "outputs": [],
   "source": [
    "model_masked = BertForMaskedLM.from_pretrained('bert-base-uncased')"
   ]
  },
  {
   "cell_type": "markdown",
   "id": "18d77d58-3d79-45b6-8f13-35e0e7556538",
   "metadata": {},
   "source": [
    "### Load Wiki dataset of article text"
   ]
  },
  {
   "cell_type": "code",
   "execution_count": 5,
   "id": "fa9f5761-4f19-488b-8fa3-3aad5fb6657d",
   "metadata": {},
   "outputs": [],
   "source": [
    "# !pip3 install apache_beam mwparserfromhell"
   ]
  },
  {
   "cell_type": "code",
   "execution_count": 6,
   "id": "6805f11e-bcfa-45ec-87b0-796353112d75",
   "metadata": {},
   "outputs": [
    {
     "name": "stderr",
     "output_type": "stream",
     "text": [
      "Found cached dataset wikipedia (/n/home01/cynthiachen/.cache/huggingface/datasets/wikipedia/20220301.simple/2.0.0/aa542ed919df55cc5d3347f42dd4521d05ca68751f50dbc32bae2a7f1e167559)\n"
     ]
    },
    {
     "data": {
      "application/vnd.jupyter.widget-view+json": {
       "model_id": "9163c98454f34975a4e625301142d731",
       "version_major": 2,
       "version_minor": 0
      },
      "text/plain": [
       "  0%|          | 0/1 [00:00<?, ?it/s]"
      ]
     },
     "metadata": {},
     "output_type": "display_data"
    }
   ],
   "source": [
    "# obtained fromnum_examples://huggingface.co/datasets/wikipedia\n",
    "dataset = load_dataset(\"wikipedia\", \"20220301.simple\")\n",
    "dataset_text = dataset['train']['text']"
   ]
  },
  {
   "cell_type": "code",
   "execution_count": 7,
   "id": "32588fad-cab8-4231-8618-2d709fe6aed3",
   "metadata": {},
   "outputs": [],
   "source": [
    "import random\n",
    "num_examples = 50\n",
    "\n",
    "# choose random examples\n",
    "\n",
    "loss_50 = []\n",
    "loss_500 = []\n",
    "for i in range(num_examples):\n",
    "    # ensure input example has at least 500 tokens\n",
    "    num_tokens = 0\n",
    "    while num_tokens < 500:\n",
    "        example_ind = random.randint(0, len(dataset_text))\n",
    "        inputs = tokenizer(dataset_text[example_ind], return_tensors='pt')\n",
    "        num_tokens = len(inputs.input_ids[0])\n",
    "\n",
    "    inputs['labels'] = inputs.input_ids.detach().clone()\n",
    "\n",
    "    # calculate single-token loss with 500 tokens in context\n",
    "    cut_length = min(500, num_tokens)\n",
    "    for k in inputs.keys():\n",
    "        inputs[k] = inputs[k][:, 0:cut_length]\n",
    "    selection = [random.randint(0, 499)]\n",
    "    orig_token = inputs.input_ids[0, selection]\n",
    "    inputs.input_ids[0, selection] = 103\n",
    "    outputs = model_masked(**inputs)\n",
    "    loss_500.append(outputs.loss)\n",
    "    inputs.input_ids[0, selection] = orig_token\n",
    "   \n",
    "    # calculate loss with 50 tokens in context\n",
    "    cut_length = 50\n",
    "    for k in inputs.keys():\n",
    "        inputs[k] = inputs[k][:, 0:cut_length]\n",
    "    selection = [random.randint(0, 49)]\n",
    "    inputs.input_ids[0, selection] = 103\n",
    "    outputs = model_masked(**inputs)\n",
    "    loss_50.append(outputs.loss)"
   ]
  },
  {
   "cell_type": "markdown",
   "id": "1125f93d-a175-4da2-a4d9-780a059e8f2c",
   "metadata": {},
   "source": [
    "### ICL metric: Loss(500th token) - Loss (50th token)"
   ]
  },
  {
   "cell_type": "code",
   "execution_count": 8,
   "id": "88bee322-649e-4b36-b11a-cef58df6e3f0",
   "metadata": {},
   "outputs": [],
   "source": [
    "diff = []\n",
    "for i in range(num_examples):\n",
    "    diff.append(float(loss_50[i]) - float(loss_500[i]))\n",
    "diff = np.array(diff)"
   ]
  },
  {
   "cell_type": "code",
   "execution_count": 15,
   "id": "c6e78595-1f78-4337-92c2-448208d345ff",
   "metadata": {},
   "outputs": [
    {
     "data": {
      "image/png": "[encoded data removed]",
      "text/plain": [
       "<Figure size 800x600 with 1 Axes>"
      ]
     },
     "metadata": {
      "needs_background": "light"
     },
     "output_type": "display_data"
    }
   ],
   "source": [
    "fig, ax = plt.subplots(figsize=(8, 6), dpi = 100)\n",
    "plt.hist(diff)\n",
    "plt.title('Loss(50 tokens) - Loss(500 tokens), 50 trials')\n",
    "plt.savefig('figs/icl.png', dpi = 150)"
   ]
  },
  {
   "cell_type": "code",
   "execution_count": 9,
   "id": "8a25a12a-5056-4130-b7c8-a482e8475a4e",
   "metadata": {},
   "outputs": [
    {
     "data": {
      "text/plain": [
       "0.25550899416208267"
      ]
     },
     "execution_count": 9,
     "metadata": {},
     "output_type": "execute_result"
    }
   ],
   "source": [
    "diff.mean()"
   ]
  },
  {
   "cell_type": "code",
   "execution_count": null,
   "id": "4750bc1c-2af2-43a3-b4ab-fc8c6036329d",
   "metadata": {},
   "outputs": [],
   "source": []
  }
 ],
 "metadata": {
  "kernelspec": {
   "display_name": "Python 3",
   "language": "python",
   "name": "python3"
  },
  "language_info": {
   "codemirror_mode": {
    "name": "ipython",
    "version": 3
   },
   "file_extension": ".py",
   "mimetype": "text/x-python",
   "name": "python",
   "nbconvert_exporter": "python",
   "pygments_lexer": "ipython3",
   "version": "3.8.8"
  }
 },
 "nbformat": 4,
 "nbformat_minor": 5
}
